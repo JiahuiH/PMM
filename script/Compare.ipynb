{
 "cells": [
  {
   "cell_type": "code",
   "execution_count": 9,
   "metadata": {},
   "outputs": [
    {
     "name": "stderr",
     "output_type": "stream",
     "text": [
      "717it [11:11,  1.07it/s]\n"
     ]
    }
   ],
   "source": [
    "# import pandas as pd\n",
    "# from tqdm import tqdm\n",
    "# import warnings\n",
    "\n",
    "# warnings.filterwarnings(\"ignore\")\n",
    "\n",
    "# # A function which convert the column of \"likely_benign\", \"likely_pathogenic\" and \"ambiguous\" in to labels of 0, 1 and 2\n",
    "# def convert_label(x):\n",
    "#     assert x in [\"likely_benign\", \"likely_pathogenic\", \"ambiguous\"]\n",
    "#     if x == \"likely_benign\":\n",
    "#         return 0\n",
    "#     elif x == \"likely_pathogenic\":\n",
    "#         return 1\n",
    "#     elif x == \"ambiguous\":\n",
    "#         return 2\n",
    "#     return pd.np.nan\n",
    "\n",
    "# # load Alphamissence data from tsv to data frame\n",
    "# aa_substitution = pd.read_csv('/home/jiahuih/data/jiahuih/Ucloud/Documents/SLC/Resolution/PMM/Alphamissense/AlphaMissense_hg38.tsv',sep='\\t', skiprows=3, chunksize=100000)\n",
    "# PMM_data = pd.read_csv('/home/jiahuih/data/jiahuih/Ucloud/Documents/SLC/Resolution/PMM/data/SLC6_UniprotClinvarLitVar_Pathogenicity.csv')\n",
    "# output = pd.DataFrame()\n",
    "# for chunk in tqdm(aa_substitution):\n",
    "#     columns = ['transcript_id', 'protein_variant', \"am_class\", \"am_pathogenicity\"]\n",
    "#     details = chunk[columns]\n",
    "#     details['count'] = 1\n",
    "#     details['am_class'] = details['am_class'].apply(convert_label)\n",
    "#     groupup_allele = details.groupby(columns).sum().reset_index()\n",
    "#     output = output.append(groupup_allele, ignore_index=True)\n",
    "\n",
    "# final_output = output.groupby(columns).sum().reset_index()\n",
    "# final_output.to_csv('/home/jiahuih/data/jiahuih/Ucloud/Documents/SLC/Resolution/PMM/Alphamissense/aggregated_hg38.csv', index=False)"
   ]
  },
  {
   "cell_type": "code",
   "execution_count": 1,
   "metadata": {},
   "outputs": [],
   "source": [
    "import pandas as pd\n",
    "PMM_data = pd.read_csv('../data/SLC6_UniprotClinvarLitVar_Pathogenicity_fullTranscript.csv')\n",
    "\n",
    "aggregated_hg38 = pd.read_csv('aggregated_hg38.csv')"
   ]
  },
  {
   "cell_type": "code",
   "execution_count": 29,
   "metadata": {},
   "outputs": [],
   "source": [
    "SLC6A8 = pd.read_csv('../data/SLC6A8_test_Resolution.csv')"
   ]
  },
  {
   "cell_type": "code",
   "execution_count": 8,
   "metadata": {},
   "outputs": [],
   "source": [
    "# Split the mutation of DeepMind data into three columns: original, position and mutation\n",
    "import re\n",
    "\n",
    "def split_variant(x):\n",
    "    return re.match(r\"([A-Z])([0-9]+)([A-Z])\",x).groups()\n",
    "\n",
    "aggregated_hg38[\"original\"], aggregated_hg38[\"position\"], aggregated_hg38[\"mutat\"] = zip(*aggregated_hg38[\"protein_variant\"].apply(split_variant))\n",
    "\n",
    "# ignore the transcript content after comma\n",
    "aggregated_hg38['transcript_id'] = aggregated_hg38['transcript_id'].apply(lambda x: x.split(\".\")[0])"
   ]
  },
  {
   "cell_type": "code",
   "execution_count": 18,
   "metadata": {},
   "outputs": [],
   "source": [
    "\n"
   ]
  },
  {
   "cell_type": "code",
   "execution_count": 23,
   "metadata": {},
   "outputs": [],
   "source": [
    "# join aggregated_hg38 onto PMM_data by the coloumns\n",
    "\n",
    "aggregated_hg38['transcript_id'] = aggregated_hg38['transcript_id'].astype(str)\n",
    "PMM_data['transcript_id'] = PMM_data['transcript_id'].astype(str)\n",
    "aggregated_hg38['position'] = aggregated_hg38['position'].astype(int)\n",
    "PMM_data['Position'] = PMM_data['Position'].astype(int)\n",
    "aggregated_hg38['mutat'] = aggregated_hg38['mutat'].astype(str)\n",
    "PMM_data['MutanAA'] = PMM_data['MutanAA'].astype(str)\n",
    "aggregated_hg38['original'] = aggregated_hg38['original'].astype(str)\n",
    "PMM_data['OriginalAA'] = PMM_data['OriginalAA'].astype(str)\n",
    "\n",
    "merged_df = pd.merge(\n",
    "    aggregated_hg38,\n",
    "    PMM_data,\n",
    "    how='right', \n",
    "    left_on=['transcript_id', 'position', 'mutat', 'original'],\n",
    "    right_on=['transcript_id', 'Position', 'MutanAA', 'OriginalAA']\n",
    ")"
   ]
  },
  {
   "cell_type": "code",
   "execution_count": 32,
   "metadata": {},
   "outputs": [],
   "source": [
    "# join aggregated_hg38 onto SLC6A8 by the coloumns\n",
    "\n",
    "aggregated_hg38['transcript_id'] = aggregated_hg38['transcript_id'].astype(str)\n",
    "SLC6A8['transcript_id'] = SLC6A8['transcript_id'].astype(str)\n",
    "aggregated_hg38['position'] = aggregated_hg38['position'].astype(int)\n",
    "SLC6A8['Position'] = SLC6A8['Position'].astype(int)\n",
    "aggregated_hg38['mutat'] = aggregated_hg38['mutat'].astype(str)\n",
    "SLC6A8['MutanAA'] = SLC6A8['MutanAA'].astype(str)\n",
    "aggregated_hg38['original'] = aggregated_hg38['original'].astype(str)\n",
    "SLC6A8['OriginalAA'] = SLC6A8['OriginalAA'].astype(str)\n",
    "\n",
    "merged_df_SLC6A8 = pd.merge(\n",
    "    aggregated_hg38,\n",
    "    SLC6A8,\n",
    "    how='right', \n",
    "    left_on=['transcript_id', 'position', 'mutat', 'original'],\n",
    "    right_on=['transcript_id', 'Position', 'MutanAA', 'OriginalAA']\n",
    ")\n"
   ]
  },
  {
   "cell_type": "code",
   "execution_count": 26,
   "metadata": {},
   "outputs": [
    {
     "name": "stdout",
     "output_type": "stream",
     "text": [
      "all : \n",
      "(256, 16)\n",
      "==============================\n",
      "founded : \n",
      "(126, 16)\n"
     ]
    }
   ],
   "source": [
    "print(\"all : \")\n",
    "print(merged_df.shape)\n",
    "print(\"=\"*30)\n",
    "print(\"founded : \")\n",
    "print(merged_df.dropna().shape)"
   ]
  },
  {
   "cell_type": "code",
   "execution_count": 34,
   "metadata": {},
   "outputs": [],
   "source": [
    "merged_df_SLC6A8.to_csv('../data/SLC6A8_test_am.csv', index=False)"
   ]
  },
  {
   "cell_type": "code",
   "execution_count": null,
   "metadata": {},
   "outputs": [],
   "source": []
  }
 ],
 "metadata": {
  "kernelspec": {
   "display_name": "Python 3.9.12 ('Proteomutametrics')",
   "language": "python",
   "name": "python3"
  },
  "language_info": {
   "codemirror_mode": {
    "name": "ipython",
    "version": 3
   },
   "file_extension": ".py",
   "mimetype": "text/x-python",
   "name": "python",
   "nbconvert_exporter": "python",
   "pygments_lexer": "ipython3",
   "version": "3.9.12"
  },
  "orig_nbformat": 4,
  "vscode": {
   "interpreter": {
    "hash": "d31e00a7c2c9d01bf5af034e3213f9ede897bfdc1a50238345671604d3505474"
   }
  }
 },
 "nbformat": 4,
 "nbformat_minor": 2
}
